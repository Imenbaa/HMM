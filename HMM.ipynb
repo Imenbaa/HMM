{
  "nbformat": 4,
  "nbformat_minor": 0,
  "metadata": {
    "colab": {
      "name": "HMM.ipynb",
      "provenance": []
    },
    "kernelspec": {
      "name": "python3",
      "display_name": "Python 3"
    }
  },
  "cells": [
    {
      "cell_type": "code",
      "metadata": {
        "id": "Vv7nwdwMM5T3",
        "colab_type": "code",
        "colab": {}
      },
      "source": [
        "from numpy import random\n"
      ],
      "execution_count": 0,
      "outputs": []
    },
    {
      "cell_type": "markdown",
      "metadata": {
        "id": "tqmOdVe_NZ3F",
        "colab_type": "text"
      },
      "source": [
        "I will calculate the probability that I will be accepted in my favourite PhD after having an interview.\n",
        "1.   Good interview --> accepted\n",
        "2.   Bad interview --> rejected\n",
        "Knowing that I had other interviews before it and I was accepted in some of them but rejected in others.\n",
        "\n",
        "A, R, R, R, R, A, A, R, R, R, A, A, R, R.\n",
        "\n",
        "AA=2 => 0.4\n",
        "AR=3 => 0.6\n",
        "RR=6 => 0.75\n",
        "RA=2 => 0.25\n"
      ]
    },
    {
      "cell_type": "code",
      "metadata": {
        "id": "U8jX3DRZM9MT",
        "colab_type": "code",
        "colab": {}
      },
      "source": [
        "# Transition Probabilities\n",
        "p_AA = 0.4\n",
        "p_AR = 0.6\n",
        "p_RR = 0.75\n",
        "p_RA = 0.25\n",
        "\n",
        "# Initial Probabilities\n",
        "p_R = 2/3\n",
        "p_A = 1/3\n",
        "\n",
        "# Emission Probabilities\n",
        "p_AG = 0.8\n",
        "p_AB = 0.2\n",
        "p_RG = 0.4\n",
        "p_RB = 0.6"
      ],
      "execution_count": 0,
      "outputs": []
    },
    {
      "cell_type": "code",
      "metadata": {
        "id": "JKYZlX1AYyCr",
        "colab_type": "code",
        "colab": {}
      },
      "source": [
        "moods = ['H', 'H', 'G', 'G', 'G', 'H']\n",
        "probabilities = []\n",
        "weather = []\n",
        "\n",
        "if moods[0] == 'H':\n",
        "    probabilities.append((p_s*p_sh, p_r*p_rh))\n",
        "else:\n",
        "    probabilities.append((p_s*p_sg, p_r*p_rg))\n",
        "\n",
        "for i in range(1,len(moods)):\n",
        "    yesterday_sunny, yesterday_rainy = probabilities[-1]\n",
        "    if moods[i] == 'H':\n",
        "        today_sunny = max(yesterday_sunny*p_ss*p_sh, yesterday_rainy*p_rs*p_sh)\n",
        "        today_rainy = max(yesterday_sunny*p_sr*p_rh, yesterday_rainy*p_rr*p_rh)\n",
        "        probabilities.append((today_sunny, today_rainy))\n",
        "    else:\n",
        "        today_sunny = max(yesterday_sunny*p_ss*p_sg, yesterday_rainy*p_rs*p_sg)\n",
        "        today_rainy = max(yesterday_sunny*p_sr*p_rg, yesterday_rainy*p_rr*p_rg)\n",
        "        probabilities.append((today_sunny, today_rainy))\n",
        "\n",
        "for p in probabilities:\n",
        "    if p[0] > p[1]:\n",
        "        weather.append('S')\n",
        "    else:\n",
        "        weather.append('R')\n",
        "        \n",
        "weather"
      ],
      "execution_count": 0,
      "outputs": []
    },
    {
      "cell_type": "code",
      "metadata": {
        "id": "yEYPP3dTTS6J",
        "colab_type": "code",
        "colab": {
          "base_uri": "https://localhost:8080/",
          "height": 34
        },
        "outputId": "914c58fe-a885-4fb9-d937-a52ce5df291f"
      },
      "source": [
        "interviews = ['G', 'G', 'B', 'B', 'B', 'G']\n",
        "probabilities = []\n",
        "result = []\n",
        "\n",
        "if interviews[0] == 'G':\n",
        "    probabilities.append((p_A*p_AG, p_R*p_RG))\n",
        "else:\n",
        "    probabilities.append((p_A*p_AB, p_R*p_RB))\n",
        "\n",
        "for i in range(1,len(interviews)):\n",
        "    last_accepted, last_Rejected = probabilities[-1]\n",
        "    if interviews[i] == 'G':\n",
        "        phd_accepted = max(last_accepted*p_AA*p_AG, last_Rejected*p_RA*p_AG)\n",
        "        phd_rejected = max(last_accepted*p_AR*p_RG, last_Rejected*p_RR*p_RG)\n",
        "        probabilities.append((phd_accepted, phd_rejected))\n",
        "    else:\n",
        "        phd_accepted = max(last_accepted*p_AA*p_AB, last_Rejected*p_RA*p_AB)\n",
        "        phd_rejected = max(last_accepted*p_AR*p_RB, last_Rejected*p_RR*p_RB)\n",
        "        probabilities.append((phd_accepted, phd_rejected))\n",
        "\n",
        "for p in probabilities:\n",
        "    if p[0] > p[1]:\n",
        "        result.append('A')\n",
        "    else:\n",
        "        result.append('R')\n",
        "result"
      ],
      "execution_count": 18,
      "outputs": [
        {
          "output_type": "execute_result",
          "data": {
            "text/plain": [
              "['R', 'A', 'R', 'R', 'R', 'R']"
            ]
          },
          "metadata": {
            "tags": []
          },
          "execution_count": 18
        }
      ]
    },
    {
      "cell_type": "code",
      "metadata": {
        "id": "wCZXtmAVYEAy",
        "colab_type": "code",
        "colab": {
          "base_uri": "https://localhost:8080/",
          "height": 119
        },
        "outputId": "4b769afe-cb44-478c-c6b1-7a35a2555457"
      },
      "source": [
        "probabilities"
      ],
      "execution_count": 19,
      "outputs": [
        {
          "output_type": "execute_result",
          "data": {
            "text/plain": [
              "[(0.26666666666666666, 0.26666666666666666),\n",
              " (0.08533333333333334, 0.08000000000000002),\n",
              " (0.006826666666666668, 0.036000000000000004),\n",
              " (0.0018000000000000004, 0.016200000000000003),\n",
              " (0.0008100000000000002, 0.0072900000000000005),\n",
              " (0.001458, 0.002187)]"
            ]
          },
          "metadata": {
            "tags": []
          },
          "execution_count": 19
        }
      ]
    }
  ]
}